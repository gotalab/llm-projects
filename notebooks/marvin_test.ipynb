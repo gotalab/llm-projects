{
 "cells": [
  {
   "cell_type": "code",
   "execution_count": 5,
   "metadata": {},
   "outputs": [],
   "source": [
    "import os\n",
    "from dotenv import load_dotenv, find_dotenv\n",
    "import marvin\n",
    "\n",
    "load_dotenv(find_dotenv())\n",
    "marvin.settings.openai.api_key = os.getenv(\"OPENAI_API_KEY\")"
   ]
  },
  {
   "cell_type": "code",
   "execution_count": 6,
   "metadata": {},
   "outputs": [
    {
     "data": {
      "text/plain": [
       "Location(city='New York', state='NY')"
      ]
     },
     "execution_count": 6,
     "metadata": {},
     "output_type": "execute_result"
    }
   ],
   "source": [
    "from marvin import ai_model\n",
    "from pydantic import BaseModel, Field\n",
    "\n",
    "\n",
    "@ai_model\n",
    "class Location(BaseModel):\n",
    "    city: str\n",
    "    state: str = Field(..., description=\"The two-letter state abbreviation\")\n",
    "\n",
    "\n",
    "Location(\"The Big Apple\")\n",
    "# Location(city='New York', state='NY')"
   ]
  },
  {
   "cell_type": "code",
   "execution_count": 9,
   "metadata": {},
   "outputs": [
    {
     "data": {
      "text/plain": [
       "Location(city='Roppongi', state='Tokyo')"
      ]
     },
     "execution_count": 9,
     "metadata": {},
     "output_type": "execute_result"
    }
   ],
   "source": [
    "Location(\"六本木\")"
   ]
  },
  {
   "cell_type": "code",
   "execution_count": 20,
   "metadata": {},
   "outputs": [
    {
     "data": {
      "text/plain": [
       "<AppRoute.USER_PROFILE: '/user-profile'>"
      ]
     },
     "execution_count": 20,
     "metadata": {},
     "output_type": "execute_result"
    }
   ],
   "source": [
    "from marvin import ai_classifier\n",
    "from enum import Enum\n",
    "\n",
    "\n",
    "@ai_classifier\n",
    "class AppRoute(Enum):\n",
    "    \"\"\"Represents distinct routes command bar for a different application\"\"\"\n",
    "\n",
    "    USER_PROFILE = \"/user-profile\"\n",
    "    SEARCH = \"/search\"\n",
    "    NOTIFICATIONS = \"/notifications\"\n",
    "    SETTINGS = \"/settings\"\n",
    "    HELP = \"/help\"\n",
    "    CHAT = \"/chat\"\n",
    "    DOCS = \"/docs\"\n",
    "    PROJECTS = \"/projects\"\n",
    "    WORKSPACES = \"/workspaces\"\n",
    "\n",
    "\n",
    "AppRoute(\"Update my profile\")"
   ]
  },
  {
   "cell_type": "code",
   "execution_count": 24,
   "metadata": {},
   "outputs": [
    {
     "name": "stdout",
     "output_type": "stream",
     "text": [
      "Text 1: 0.9\n",
      "Text 2: -0.3\n",
      "Text 3: 0.9\n"
     ]
    }
   ],
   "source": [
    "from marvin import ai_fn\n",
    "\n",
    "\n",
    "@ai_fn\n",
    "def sentiment(text: str) -> float:\n",
    "    \"\"\"\n",
    "    Given `text`, returns a number between 1 (positive) and -1 (negative)\n",
    "    indicating its sentiment score.\n",
    "    \"\"\"\n",
    "\n",
    "\n",
    "print(\"Text 1:\", sentiment(\"I love working with Marvin!\"))\n",
    "print(\"Text 2:\", sentiment(\"These examples could use some work...\"))\n",
    "review = \"\"\"\n",
    "東京タワーは、日本の首都・東京のシンボルとして、多くの人々に親しまれている観光名所の一つである。1958年の竣工以来、この赤と白の塔は、東京の都市景観の中でひときわ目立ち、多くの人々を魅了してきた。地上333メートルの高さで、訪れる者たちに絶景のパノラマを提供している。\n",
    "\n",
    "昼間には、新しい建築物が立ち並ぶ東京のスカイラインや、遠くには富士山の雄大な姿まで望むことができる。夜には、タワーが美しくイルミネーションされ、都市の光とともに夜景を楽しむことができる。特に、特別なイベントやシーズンには、色とりどりのライトアップが施され、一年中さまざまな表情を見せてくれる。\n",
    "\n",
    "内部には、展望台はもちろん、カフェ、ショップ、博物館などが併設されており、ただ眺めるだけでなく、ショッピングや食事、学びの体験も楽しむことができる。特に、底部にある「FootTown」では、さまざまなレストランやお土産屋が連なっており、東京のグルメや文化を堪能できる。\n",
    "\n",
    "しかし、東京タワーの真の魅力は、単なる観光名所を超えた、日本の歴史や文化の象徴であることだろう。数々の映画やドラマ、アニメにも登場し、日本人の心の中で、特別な場所として語り継がれてきた。この塔は、単なる観光スポットではなく、日本のアイデンティティの一部としての存在感を放っている。\n",
    "\n",
    "総じて、東京タワーはその美しさ、機能性、歴史的背景を併せ持つ、東京を代表するスポットと言えるだろう。訪れた際は、その多面的な魅力をじっくりと感じ取ってほしい。\n",
    "\"\"\"\n",
    "\n",
    "print(\"Text 3:\", sentiment(review))"
   ]
  },
  {
   "cell_type": "code",
   "execution_count": 25,
   "metadata": {},
   "outputs": [
    {
     "data": {
      "text/plain": [
       "[1.0, -0.6]"
      ]
     },
     "execution_count": 25,
     "metadata": {},
     "output_type": "execute_result"
    }
   ],
   "source": [
    "from marvin import ai_fn\n",
    "\n",
    "\n",
    "@ai_fn\n",
    "def sentiment_list(texts: list[str]) -> list[float]:\n",
    "    \"\"\"\n",
    "    Given a list of `texts`, returns a list of numbers between 1 (positive) and\n",
    "    -1 (negative) indicating their respective sentiment scores.\n",
    "    \"\"\"\n",
    "\n",
    "\n",
    "sentiment_list(\n",
    "    [\n",
    "        \"That was surprisingly easy!\",\n",
    "        \"Oh no, not again.\",\n",
    "    ]\n",
    ")"
   ]
  },
  {
   "cell_type": "code",
   "execution_count": 26,
   "metadata": {},
   "outputs": [],
   "source": [
    "from datetime import datetime\n",
    "from pydantic import BaseModel, Field\n",
    "from marvin import AIApplication\n",
    "\n",
    "\n",
    "# create models to represent the state of our ToDo app\n",
    "class ToDo(BaseModel):\n",
    "    title: str\n",
    "    description: str = None\n",
    "    due_date: datetime = None\n",
    "    done: bool = False\n",
    "\n",
    "\n",
    "class ToDoState(BaseModel):\n",
    "    todos: list[ToDo] = []\n",
    "\n",
    "\n",
    "# create the app with an initial state and description\n",
    "todo_app = AIApplication(\n",
    "    state=ToDoState(),\n",
    "    description=(\n",
    "        \"A simple todo app. Users will provide instructions for creating and updating\"\n",
    "        \" their todo lists.\"\n",
    "    ),\n",
    ")"
   ]
  },
  {
   "cell_type": "code",
   "execution_count": 27,
   "metadata": {},
   "outputs": [
    {
     "name": "stdout",
     "output_type": "stream",
     "text": [
      "Response: Sure, I have added \"Go to the store\" to your to-do list for tomorrow at 5pm.\n",
      "\n",
      "App state: {\n",
      "  \"todos\": [\n",
      "    {\n",
      "      \"title\": \"Go to the store\",\n",
      "      \"description\": \"\",\n",
      "      \"due_date\": \"2023-08-20T17:00:00+00:00\",\n",
      "      \"done\": false\n",
      "    }\n",
      "  ]\n",
      "}\n"
     ]
    }
   ],
   "source": [
    "# invoke the application by adding a todo\n",
    "response = todo_app(\"I need to go to the store tomorrow at 5pm\")\n",
    "\n",
    "\n",
    "print(\n",
    "    f\"Response: {response.content}\\n\",\n",
    ")\n",
    "print(f\"App state: {todo_app.state.json(indent=2)}\")"
   ]
  },
  {
   "cell_type": "code",
   "execution_count": 28,
   "metadata": {},
   "outputs": [
    {
     "name": "stdout",
     "output_type": "stream",
     "text": [
      "Response: Sure, I have added \"Cook dinner\" to your to-do list for today at 6pm.\n",
      "\n",
      "App state: {\n",
      "  \"todos\": [\n",
      "    {\n",
      "      \"title\": \"Go to the store\",\n",
      "      \"description\": \"\",\n",
      "      \"due_date\": \"2023-08-20T17:00:00+00:00\",\n",
      "      \"done\": false\n",
      "    },\n",
      "    {\n",
      "      \"title\": \"Cook dinner\",\n",
      "      \"description\": null,\n",
      "      \"due_date\": \"2023-08-19T18:00:00+00:00\",\n",
      "      \"done\": false\n",
      "    }\n",
      "  ]\n",
      "}\n"
     ]
    }
   ],
   "source": [
    "# invoke the application by adding a todo\n",
    "response = todo_app(\"I need to cook dinner at 6pm\")\n",
    "\n",
    "\n",
    "print(\n",
    "    f\"Response: {response.content}\\n\",\n",
    ")\n",
    "print(f\"App state: {todo_app.state.json(indent=2)}\")"
   ]
  },
  {
   "cell_type": "code",
   "execution_count": 29,
   "metadata": {},
   "outputs": [
    {
     "name": "stdout",
     "output_type": "stream",
     "text": [
      "Response: Great! I've marked \"Go to the store\" as completed on your to-do list.\n",
      "\n",
      "App state: {\n",
      "  \"todos\": [\n",
      "    {\n",
      "      \"title\": \"Go to the store\",\n",
      "      \"description\": \"\",\n",
      "      \"due_date\": \"2023-08-20T17:00:00+00:00\",\n",
      "      \"done\": true\n",
      "    },\n",
      "    {\n",
      "      \"title\": \"Cook dinner\",\n",
      "      \"description\": null,\n",
      "      \"due_date\": \"2023-08-19T18:00:00+00:00\",\n",
      "      \"done\": false\n",
      "    }\n",
      "  ]\n",
      "}\n"
     ]
    }
   ],
   "source": [
    "# complete the task\n",
    "response = todo_app(\"I already went\")\n",
    "\n",
    "\n",
    "print(f\"Response: {response.content}\\n\")\n",
    "print(f\"App state: {todo_app.state.json(indent=2)}\")"
   ]
  },
  {
   "cell_type": "code",
   "execution_count": null,
   "metadata": {},
   "outputs": [],
   "source": []
  }
 ],
 "metadata": {
  "kernelspec": {
   "display_name": "jupyter-lab",
   "language": "python",
   "name": "python3"
  },
  "language_info": {
   "codemirror_mode": {
    "name": "ipython",
    "version": 3
   },
   "file_extension": ".py",
   "mimetype": "text/x-python",
   "name": "python",
   "nbconvert_exporter": "python",
   "pygments_lexer": "ipython3",
   "version": "3.11.4"
  },
  "orig_nbformat": 4
 },
 "nbformat": 4,
 "nbformat_minor": 2
}
